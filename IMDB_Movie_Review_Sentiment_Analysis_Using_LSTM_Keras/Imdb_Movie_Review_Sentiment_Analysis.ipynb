{
  "nbformat": 4,
  "nbformat_minor": 0,
  "metadata": {
    "colab": {
      "name": "DL_2.ipynb",
      "provenance": [],
      "collapsed_sections": []
    },
    "kernelspec": {
      "name": "python3",
      "display_name": "Python 3"
    }
  },
  "cells": [
    {
      "cell_type": "markdown",
      "metadata": {
        "id": "56Sttt5OEBXw",
        "colab_type": "text"
      },
      "source": [
        "DL Assignment 2\n",
        "(By: Shyam Kumar Sodankoor(19230735) and Harshith Shankar Tarikere Ravikumar(19230323))"
      ]
    },
    {
      "cell_type": "code",
      "metadata": {
        "id": "Zw380qqqOima",
        "colab_type": "code",
        "colab": {}
      },
      "source": [
        "from string import punctuation\n",
        "from os import listdir\n",
        "from collections import Counter\n",
        "from nltk.corpus import stopwords\n",
        "import pandas as pd\n",
        "\n",
        "# Data Preprocessing. This function loads the review files, reads the sentence and returns it\n",
        "# Source: https://machinelearningmastery.com/prepare-movie-review-data-sentiment-analysis/\n",
        "def load_doc(filename):\n",
        "\t# open the file as read only\n",
        "\tfile = open(filename, 'r',encoding=\"utf8\")\n",
        "\t# read all text\n",
        "\ttext = file.read()\n",
        "\t# close the file\n",
        "\tfile.close()\n",
        "\treturn text\n",
        "\n",
        "# Data Preprocessing. This function uses load_doc and reads sentences from each folder and returns a list of reviews \n",
        "# Source: https://machinelearningmastery.com/prepare-movie-review-data-sentiment-analysis/\n",
        "def process_docs(directory):\n",
        "\tlines = list()\n",
        "\t# walk through all files in the folder\n",
        "\tfor filename in listdir(directory):\n",
        "\t\t# skip files that do not have the right extension\n",
        "\t\tif not filename.endswith(\".txt\"):\n",
        "\t\t\tcontinue\n",
        "\t\t# create the full path of the file to open\n",
        "\t\tpath = directory + '//' + filename\n",
        "\t\t# load and clean the doc\n",
        "\t\tline = load_doc(path)\n",
        "\t\t# add to list\n",
        "\t\tlines.append(line)\n",
        "\treturn lines\n",
        "\n",
        "# Read all the files and store them in lists \n",
        "train_file_neg = \"aclImdb\\train\\neg\"\n",
        "train_negative_lines = process_docs(train_file_neg)\n",
        "train_file_pos = \"aclImdb\\train\\pos\"\n",
        "train_positive_lines = process_docs(train_file_pos)\n",
        "test_file_neg = \"aclImdb\\test\\neg\"\n",
        "test_negative_lines = process_docs(test_file_neg)\n",
        "test_file_pos = \"aclImdb\\test\\pos\"\n",
        "test_positive_lines = process_docs(test_file_pos)\n",
        "\n",
        "# Create dataframes for each of the review lists\n",
        "senti_df = pd.DataFrame(train_positive_lines)\n",
        "senti_df.columns = [\"Review\"]\n",
        "senti_df['Sentiment'] = 1\n",
        "senti_df1 = pd.DataFrame(train_negative_lines)\n",
        "senti_df1.columns = [\"Review\"]\n",
        "senti_df1['Sentiment'] = 0\n",
        "senti_df2 = pd.DataFrame(test_positive_lines)\n",
        "senti_df2.columns = [\"Review\"]\n",
        "senti_df2['Sentiment'] = 1\n",
        "senti_df3 = pd.DataFrame(test_negative_lines)\n",
        "senti_df3.columns = [\"Review\"]\n",
        "senti_df3['Sentiment'] = 0\n",
        "\n",
        "# Create a final dataframe containing all the reviews and their senitments\n",
        "senti_df_final = pd.concat([senti_df,senti_df1,senti_df2,senti_df3],ignore_index=True)"
      ],
      "execution_count": 0,
      "outputs": []
    },
    {
      "cell_type": "code",
      "metadata": {
        "id": "hxgZts1zp9qe",
        "colab_type": "code",
        "outputId": "1dd770b5-209e-41e5-9071-e19835aa6ca9",
        "colab": {
          "base_uri": "https://localhost:8080/",
          "height": 571
        }
      },
      "source": [
        "# Sources Referred\n",
        "# https://machinelearningmastery.com/prepare-movie-review-data-sentiment-analysis/\n",
        "# https://towardsdatascience.com/machine-learning-word-embedding-sentiment-classification-using-keras-b83c28087456\n",
        "# https://stackabuse.com/python-for-nlp-movie-sentiment-analysis-using-deep-learning-in-keras/\n",
        "# https://keras.io/examples/imdb_lstm/\n",
        "\n",
        "import numpy as np\n",
        "import pandas as pd\n",
        "import nltk\n",
        "nltk.download('stopwords')\n",
        "from __future__ import print_function\n",
        "\n",
        "from nltk.corpus import stopwords\n",
        "from string import punctuation\n",
        "import re\n",
        "\n",
        "from tensorflow.keras.preprocessing import sequence\n",
        "from tensorflow.keras.models import Sequential\n",
        "from tensorflow.keras.layers import Dense, Embedding\n",
        "from tensorflow.keras.layers import LSTM\n",
        "from tensorflow.keras.datasets import imdb\n",
        "from sklearn.model_selection import train_test_split\n",
        "from tensorflow.keras.preprocessing.text import Tokenizer\n",
        "\n",
        "# Preprocessing the sentences\n",
        "# This function does the preprocessing of each sentence like removing html tags,\n",
        "# stopwords and other unwanted stuff\n",
        "def preprocess_text(sen):\n",
        "    # Removing html tags\n",
        "    sentence = remove_tags(sen)\n",
        "    # Removing multiple spaces\n",
        "    sentence = re.sub(r'\\s+', ' ', sentence)\n",
        "    # split into tokens by white space\n",
        "    tokens = sentence.split()\n",
        "\t  # remove punctuation from each token\n",
        "    table = str.maketrans('', '', punctuation)\n",
        "    tokens = [w.translate(table) for w in tokens]\n",
        "\t  # remove remaining tokens that are not alphabetic\n",
        "    tokens = [word for word in tokens if word.isalpha()]\n",
        "  \t# filter out stop words\n",
        "    stop_words = set(stopwords.words('english'))\n",
        "    tokens = [w for w in tokens if not w in stop_words]\n",
        "\t  # filter out short tokens\n",
        "    tokens = [word for word in tokens if len(word) > 1]\n",
        "    sentence = ' '.join(tokens)\n",
        "\n",
        "    return sentence\n",
        "\n",
        "TAG_RE = re.compile(r'<[^>]+>')\n",
        "\n",
        "def remove_tags(text):\n",
        "    return TAG_RE.sub('', text)\n",
        "\n",
        "# Preprocessing the reviews\n",
        "X = []\n",
        "sentences = senti_df_final['Review']\n",
        "for sen in sentences:\n",
        "    X.append(preprocess_text(sen))\n",
        "\n",
        "y = np.array(senti_df_final['Sentiment'])\n",
        "\n",
        "max_features = 5000\n",
        "# cut texts after this number of words (among top max_features most common words)\n",
        "maxlen = 500\n",
        "batch_size = 128\n",
        "\n",
        "print('Loading data...')\n",
        "\n",
        "# Setting first 50% of the data as training data as given in the files\n",
        "x_train = X[:24999]\n",
        "y_train = y[:24999]\n",
        "x_test = X[25000:]\n",
        "y_test = y[25000:]\n",
        "\n",
        "# Vectorizing the words using Tokenizer object\n",
        "tokenizer = Tokenizer(num_words=5000)\n",
        "tokenizer.fit_on_texts(x_train)\n",
        "\n",
        "x_train = tokenizer.texts_to_sequences(x_train)\n",
        "x_test = tokenizer.texts_to_sequences(x_test)\n",
        "\n",
        "vocab_size = len(tokenizer.word_index) + 1\n",
        "\n",
        "maxlen = 500\n",
        "\n",
        "print(len(x_train), 'train sequences')\n",
        "print(len(x_test), 'test sequences')\n",
        "\n",
        "print('Pad sequences (samples x time)')\n",
        "# Padding the input sequence with a maximum length of 500\n",
        "x_train = sequence.pad_sequences(x_train, maxlen=maxlen)\n",
        "x_test = sequence.pad_sequences(x_test, maxlen=maxlen)\n",
        "print('x_train shape:', x_train.shape)\n",
        "print('x_test shape:', x_test.shape)\n",
        "\n",
        "print('Build model...')\n",
        "# Building a sequential model\n",
        "model = Sequential()\n",
        "# Adding an embedding layer \n",
        "model.add(Embedding(max_features, 128))\n",
        "# Adding an LSTM layer\n",
        "model.add(LSTM(128, dropout=0.2, recurrent_dropout=0.2))\n",
        "# Adding a dense layer with 256 nodes\n",
        "model.add(Dense(256, activation='relu'))\n",
        "# Adding a final sigmoid layer\n",
        "model.add(Dense(1, activation='sigmoid'))\n",
        "\n",
        "# Using binary-crossentropy loss function with Adam optimizer\n",
        "model.compile(loss='binary_crossentropy',\n",
        "              optimizer='adam',\n",
        "              metrics=['accuracy'])\n",
        "\n",
        "print('Train...')\n",
        "\n",
        "# Fitting the model using a batch size of 128 and 2 epochs\n",
        "history = model.fit(x_train, y_train,\n",
        "          batch_size=batch_size,\n",
        "          epochs=10,\n",
        "          validation_data=(x_test, y_test))\n",
        "\n",
        "# Calculating test score and accuracy of the model using the test data\n",
        "score, acc = model.evaluate(x_test, y_test,\n",
        "                            batch_size=batch_size)\n",
        "print('Test score:', score)\n",
        "print('Test accuracy:', acc)"
      ],
      "execution_count": 0,
      "outputs": [
        {
          "output_type": "stream",
          "text": [
            "[nltk_data] Downloading package stopwords to /root/nltk_data...\n",
            "[nltk_data]   Package stopwords is already up-to-date!\n",
            "Loading data...\n",
            "24999 train sequences\n",
            "25000 test sequences\n",
            "Pad sequences (samples x time)\n",
            "x_train shape: (24999, 500)\n",
            "x_test shape: (25000, 500)\n",
            "Build model...\n",
            "Train...\n",
            "Epoch 1/10\n",
            "196/196 [==============================] - 645s 3s/step - loss: 0.4178 - accuracy: 0.8083 - val_loss: 0.3333 - val_accuracy: 0.8626\n",
            "Epoch 2/10\n",
            "196/196 [==============================] - 656s 3s/step - loss: 0.2572 - accuracy: 0.8988 - val_loss: 0.3131 - val_accuracy: 0.8680\n",
            "Epoch 3/10\n",
            "196/196 [==============================] - 647s 3s/step - loss: 0.2061 - accuracy: 0.9216 - val_loss: 0.3508 - val_accuracy: 0.8660\n",
            "Epoch 4/10\n",
            "196/196 [==============================] - 634s 3s/step - loss: 0.1720 - accuracy: 0.9342 - val_loss: 0.3603 - val_accuracy: 0.8588\n",
            "Epoch 5/10\n",
            "196/196 [==============================] - 638s 3s/step - loss: 0.1449 - accuracy: 0.9462 - val_loss: 0.3948 - val_accuracy: 0.8509\n",
            "Epoch 6/10\n",
            "196/196 [==============================] - 639s 3s/step - loss: 0.1209 - accuracy: 0.9544 - val_loss: 0.4815 - val_accuracy: 0.8484\n",
            "Epoch 7/10\n",
            "196/196 [==============================] - 637s 3s/step - loss: 0.0891 - accuracy: 0.9671 - val_loss: 0.5767 - val_accuracy: 0.8468\n",
            "Epoch 8/10\n",
            "196/196 [==============================] - 638s 3s/step - loss: 0.0718 - accuracy: 0.9741 - val_loss: 0.5882 - val_accuracy: 0.8450\n",
            "Epoch 9/10\n",
            "196/196 [==============================] - 637s 3s/step - loss: 0.0676 - accuracy: 0.9752 - val_loss: 0.6994 - val_accuracy: 0.8446\n",
            "Epoch 10/10\n",
            "196/196 [==============================] - 648s 3s/step - loss: 0.0441 - accuracy: 0.9844 - val_loss: 0.7263 - val_accuracy: 0.8329\n",
            "196/196 [==============================] - 84s 429ms/step - loss: 0.7263 - accuracy: 0.8329\n",
            "Test score: 0.726270318031311\n",
            "Test accuracy: 0.8329200148582458\n"
          ],
          "name": "stdout"
        }
      ]
    },
    {
      "cell_type": "code",
      "metadata": {
        "id": "kuXuOp_y5j71",
        "colab_type": "code",
        "outputId": "0997be97-7148-4fb4-9e52-a1ec92a3afa9",
        "colab": {
          "base_uri": "https://localhost:8080/",
          "height": 295
        }
      },
      "source": [
        "# Sources Referred\n",
        "# https://www.kaggle.com/drscarlat/imdb-sentiment-analysis-keras-and-tensorflow\n",
        "\n",
        "import matplotlib.pyplot as plt\n",
        "plt.clf()\n",
        "history_dict = history.history\n",
        "loss_values = history_dict['loss']\n",
        "val_loss_values = history_dict['val_loss']\n",
        "epochs = range(1, (len(history_dict['loss']) + 1))\n",
        "plt.plot(epochs, loss_values, 'bo', label='Training loss')\n",
        "plt.plot(epochs, val_loss_values, 'b', label='Validation loss')\n",
        "plt.title('Training and validation loss')\n",
        "plt.xlabel('Epochs')\n",
        "plt.ylabel('Loss')\n",
        "plt.legend()\n",
        "plt.show()"
      ],
      "execution_count": 0,
      "outputs": [
        {
          "output_type": "display_data",
          "data": {
            "image/png": "[encoded data removed]",
            "text/plain": [
              "<Figure size 432x288 with 1 Axes>"
            ]
          },
          "metadata": {
            "tags": [],
            "needs_background": "light"
          }
        }
      ]
    },
    {
      "cell_type": "markdown",
      "metadata": {
        "id": "0VlDgNkt_Jtg",
        "colab_type": "text"
      },
      "source": [
        "Naive Bayes"
      ]
    },
    {
      "cell_type": "code",
      "metadata": {
        "id": "UeWBDa6KzAc9",
        "colab_type": "code",
        "outputId": "31d78f62-ac03-4428-caea-8767978cc117",
        "colab": {
          "base_uri": "https://localhost:8080/",
          "height": 67
        }
      },
      "source": [
        "import nltk\n",
        "nltk.download('stopwords')"
      ],
      "execution_count": 0,
      "outputs": [
        {
          "output_type": "stream",
          "text": [
            "[nltk_data] Downloading package stopwords to /root/nltk_data...\n",
            "[nltk_data]   Package stopwords is already up-to-date!\n"
          ],
          "name": "stdout"
        },
        {
          "output_type": "execute_result",
          "data": {
            "text/plain": [
              "True"
            ]
          },
          "metadata": {
            "tags": []
          },
          "execution_count": 2
        }
      ]
    },
    {
      "cell_type": "code",
      "metadata": {
        "id": "z-dhgmHW_RTb",
        "colab_type": "code",
        "outputId": "cc483764-f133-4443-b054-24e764bd546e",
        "colab": {
          "base_uri": "https://localhost:8080/",
          "height": 50
        }
      },
      "source": [
        "# Source : https://medium.com/@krsatyam1996/imdb-movie-review-polarity-using-naive-bayes-classifier-9f92c13efa2d\n",
        "\n",
        "import numpy as np\n",
        "from sklearn.feature_extraction.text import CountVectorizer\n",
        "from sklearn.naive_bayes import MultinomialNB\n",
        "from sklearn import metrics\n",
        "from sklearn.metrics import accuracy_score\n",
        "\n",
        "X = []\n",
        "sentences = senti_df_final['Review']\n",
        "for sen in sentences:\n",
        "    X.append(preprocess_text(sen))\n",
        "\n",
        "y = np.array(senti_df_final['Sentiment'])\n",
        "\n",
        "max_features = 5000\n",
        "# cut texts after this number of words (among top max_features most common words)\n",
        "maxlen = 500\n",
        "batch_size = 128\n",
        "\n",
        "print('Loading data...')\n",
        "\n",
        "\n",
        "X_train = X[:24999]\n",
        "y_train = y[:24999]\n",
        "X_test = X[25000:]\n",
        "y_test = y[25000:]\n",
        "\n",
        "\n",
        "vectorizer = CountVectorizer(max_features=50000)\n",
        "vectorizer.fit(X_train+X_test)\n",
        "X_train = vectorizer.transform(X_train)\n",
        "X_test = vectorizer.transform(X_test)\n",
        "\n",
        "nb = MultinomialNB(alpha=6)\n",
        "nb.fit(X_train, y_train)\n",
        "\n",
        "acc = accuracy_score(y_test,nb.predict(X_test),normalize=True) * float(100)\n",
        "print(\"Accuracy =\", acc)"
      ],
      "execution_count": 0,
      "outputs": [
        {
          "output_type": "stream",
          "text": [
            "Loading data...\n",
            "Accuracy = 83.44\n"
          ],
          "name": "stdout"
        }
      ]
    }
  ]
}